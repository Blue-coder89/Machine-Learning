{
 "cells": [
  {
   "cell_type": "code",
   "execution_count": 1,
   "metadata": {},
   "outputs": [],
   "source": [
    "import os\n",
    "os.environ[\"CUDA_DEVICE_ORDER\"]=\"PCI_BUS_ID\"\n",
    "os.environ[\"CUDA_VISIBLE_DEVICES\"]=\"1\" #model will be trained on GPU 1"
   ]
  },
  {
   "attachments": {},
   "cell_type": "markdown",
   "metadata": {},
   "source": [
    "#### IMPORTING MODULES"
   ]
  },
  {
   "cell_type": "code",
   "execution_count": 2,
   "metadata": {},
   "outputs": [
    {
     "name": "stderr",
     "output_type": "stream",
     "text": [
      "2023-01-24 16:10:49.294647: I tensorflow/core/platform/cpu_feature_guard.cc:193] This TensorFlow binary is optimized with oneAPI Deep Neural Network Library (oneDNN) to use the following CPU instructions in performance-critical operations:  AVX2 FMA\n",
      "To enable them in other operations, rebuild TensorFlow with the appropriate compiler flags.\n",
      "2023-01-24 16:10:49.680381: W tensorflow/stream_executor/platform/default/dso_loader.cc:64] Could not load dynamic library 'libcudart.so.11.0'; dlerror: libcudart.so.11.0: cannot open shared object file: No such file or directory\n",
      "2023-01-24 16:10:49.680400: I tensorflow/stream_executor/cuda/cudart_stub.cc:29] Ignore above cudart dlerror if you do not have a GPU set up on your machine.\n",
      "2023-01-24 16:10:49.731016: E tensorflow/stream_executor/cuda/cuda_blas.cc:2981] Unable to register cuBLAS factory: Attempting to register factory for plugin cuBLAS when one has already been registered\n",
      "2023-01-24 16:10:50.868800: W tensorflow/stream_executor/platform/default/dso_loader.cc:64] Could not load dynamic library 'libnvinfer.so.7'; dlerror: libnvinfer.so.7: cannot open shared object file: No such file or directory\n",
      "2023-01-24 16:10:50.868917: W tensorflow/stream_executor/platform/default/dso_loader.cc:64] Could not load dynamic library 'libnvinfer_plugin.so.7'; dlerror: libnvinfer_plugin.so.7: cannot open shared object file: No such file or directory\n",
      "2023-01-24 16:10:50.868926: W tensorflow/compiler/tf2tensorrt/utils/py_utils.cc:38] TF-TRT Warning: Cannot dlopen some TensorRT libraries. If you would like to use Nvidia GPU with TensorRT, please make sure the missing libraries mentioned above are installed properly.\n"
     ]
    }
   ],
   "source": [
    "import keras\n",
    "from matplotlib import pyplot as plt\n",
    "import numpy as np\n",
    "import gzip\n",
    "from keras.layers import Input,Conv2D,MaxPooling2D,UpSampling2D\n",
    "from keras.models import Model\n",
    "from keras.optimizers import RMSprop"
   ]
  },
  {
   "attachments": {},
   "cell_type": "markdown",
   "metadata": {},
   "source": [
    "#### EXTRACTING DATA"
   ]
  },
  {
   "cell_type": "code",
   "execution_count": 3,
   "metadata": {},
   "outputs": [],
   "source": [
    "def extract_data(filename,numImages):\n",
    "    with gzip.open(filename) as bytestream:\n",
    "        bytestream.read(16)\n",
    "        buf = bytestream.read(28*28*numImages)\n",
    "        data = np.frombuffer(buf,dtype=np.uint8).astype(np.float32)\n",
    "        data = data.reshape(numImages*28*28)\n",
    "        return data"
   ]
  },
  {
   "cell_type": "code",
   "execution_count": 4,
   "metadata": {},
   "outputs": [
    {
     "data": {
      "text/plain": [
       "((60000, 28, 28, 1), (10000, 28, 28, 1))"
      ]
     },
     "execution_count": 4,
     "metadata": {},
     "output_type": "execute_result"
    }
   ],
   "source": [
    "train_data = extract_data('train-images-idx3-ubyte.gz', 60000)\n",
    "test_data = extract_data('t10k-images-idx3-ubyte.gz', 10000)\n",
    "train_data = train_data.reshape(-1,28,28,1)\n",
    "test_data = test_data.reshape(-1,28,28,1)\n",
    "train_data.shape,test_data.shape"
   ]
  },
  {
   "attachments": {},
   "cell_type": "markdown",
   "metadata": {},
   "source": [
    "#### Rescaling"
   ]
  },
  {
   "cell_type": "code",
   "execution_count": 5,
   "metadata": {},
   "outputs": [],
   "source": [
    "train_data = train_data/np.max(train_data)\n",
    "test_data = test_data/np.max(test_data)"
   ]
  },
  {
   "attachments": {},
   "cell_type": "markdown",
   "metadata": {},
   "source": [
    "#### Dividing the training data into 4:1 ratio for training the model"
   ]
  },
  {
   "cell_type": "code",
   "execution_count": 6,
   "metadata": {},
   "outputs": [
    {
     "data": {
      "text/plain": [
       "((48000, 28, 28, 1),\n",
       " (12000, 28, 28, 1),\n",
       " (48000, 28, 28, 1),\n",
       " (12000, 28, 28, 1))"
      ]
     },
     "execution_count": 6,
     "metadata": {},
     "output_type": "execute_result"
    }
   ],
   "source": [
    "from sklearn.model_selection import train_test_split\n",
    "train_X,valid_X,train_ground,valid_ground = train_test_split(train_data,train_data,test_size=0.2,train_size=0.8,random_state=13)\n",
    "train_X.shape,valid_X.shape,train_ground.shape,valid_ground.shape"
   ]
  },
  {
   "attachments": {},
   "cell_type": "markdown",
   "metadata": {},
   "source": [
    "#### Initializing Hyperparameters"
   ]
  },
  {
   "cell_type": "code",
   "execution_count": 7,
   "metadata": {},
   "outputs": [],
   "source": [
    "batch_size = 128\n",
    "epochs = 50\n",
    "inChannel = 1\n",
    "x, y = 28, 28\n",
    "input_img = Input(shape = (x, y, inChannel))"
   ]
  },
  {
   "attachments": {},
   "cell_type": "markdown",
   "metadata": {},
   "source": [
    "#### The autoencoder architecture"
   ]
  },
  {
   "cell_type": "code",
   "execution_count": 8,
   "metadata": {},
   "outputs": [],
   "source": [
    "def autoencoder(input_img):\n",
    "    #encode\n",
    "    conv1 = Conv2D(32,(3,3),padding = 'same',activation = 'relu')(input_img)\n",
    "    downs1 = MaxPooling2D(pool_size=(2,2))(conv1)\n",
    "    conv2 = Conv2D(64,(3,3),padding = 'same',activation = 'relu')(downs1)\n",
    "    downs2 = MaxPooling2D(pool_size=(2,2))(conv2)\n",
    "    conv3 = Conv2D(128,(3,3),padding='same',activation = 'relu')(downs2)\n",
    "\n",
    "    #decode\n",
    "    conv4 = Conv2D(128,(3,3),padding = 'same',activation = 'relu')(conv3)\n",
    "    downs3 = UpSampling2D((2,2))(conv4)\n",
    "    conv5 = Conv2D(64,(3,3),padding = 'same',activation = 'relu')(downs3)\n",
    "    downs4 = UpSampling2D((2,2))(conv5)\n",
    "    conv6 = Conv2D(32,(3,3),padding='same',activation = 'relu')(downs4)\n",
    "    conv7 = Conv2D(1,(3,3),padding='same',activation = 'sigmoid')(conv6)\n",
    "\n",
    "    return conv7\n"
   ]
  },
  {
   "cell_type": "code",
   "execution_count": 9,
   "metadata": {},
   "outputs": [
    {
     "name": "stderr",
     "output_type": "stream",
     "text": [
      "2023-01-24 16:10:55.184171: E tensorflow/stream_executor/cuda/cuda_driver.cc:265] failed call to cuInit: CUDA_ERROR_NO_DEVICE: no CUDA-capable device is detected\n",
      "2023-01-24 16:10:55.184238: I tensorflow/stream_executor/cuda/cuda_diagnostics.cc:156] kernel driver does not appear to be running on this host (nishant-OMEN-Laptop-15-ek0xxx): /proc/driver/nvidia/version does not exist\n",
      "2023-01-24 16:10:55.185445: I tensorflow/core/platform/cpu_feature_guard.cc:193] This TensorFlow binary is optimized with oneAPI Deep Neural Network Library (oneDNN) to use the following CPU instructions in performance-critical operations:  AVX2 FMA\n",
      "To enable them in other operations, rebuild TensorFlow with the appropriate compiler flags.\n"
     ]
    }
   ],
   "source": [
    "autoencoder = Model(input_img,autoencoder(input_img))\n",
    "autoencoder.compile(loss = 'mean_squared_error',optimizer = RMSprop())"
   ]
  },
  {
   "cell_type": "code",
   "execution_count": 10,
   "metadata": {},
   "outputs": [
    {
     "name": "stdout",
     "output_type": "stream",
     "text": [
      "Model: \"model\"\n",
      "_________________________________________________________________\n",
      " Layer (type)                Output Shape              Param #   \n",
      "=================================================================\n",
      " input_1 (InputLayer)        [(None, 28, 28, 1)]       0         \n",
      "                                                                 \n",
      " conv2d (Conv2D)             (None, 28, 28, 32)        320       \n",
      "                                                                 \n",
      " max_pooling2d (MaxPooling2D  (None, 14, 14, 32)       0         \n",
      " )                                                               \n",
      "                                                                 \n",
      " conv2d_1 (Conv2D)           (None, 14, 14, 64)        18496     \n",
      "                                                                 \n",
      " max_pooling2d_1 (MaxPooling  (None, 7, 7, 64)         0         \n",
      " 2D)                                                             \n",
      "                                                                 \n",
      " conv2d_2 (Conv2D)           (None, 7, 7, 128)         73856     \n",
      "                                                                 \n",
      " conv2d_3 (Conv2D)           (None, 7, 7, 128)         147584    \n",
      "                                                                 \n",
      " up_sampling2d (UpSampling2D  (None, 14, 14, 128)      0         \n",
      " )                                                               \n",
      "                                                                 \n",
      " conv2d_4 (Conv2D)           (None, 14, 14, 64)        73792     \n",
      "                                                                 \n",
      " up_sampling2d_1 (UpSampling  (None, 28, 28, 64)       0         \n",
      " 2D)                                                             \n",
      "                                                                 \n",
      " conv2d_5 (Conv2D)           (None, 28, 28, 32)        18464     \n",
      "                                                                 \n",
      " conv2d_6 (Conv2D)           (None, 28, 28, 1)         289       \n",
      "                                                                 \n",
      "=================================================================\n",
      "Total params: 332,801\n",
      "Trainable params: 332,801\n",
      "Non-trainable params: 0\n",
      "_________________________________________________________________\n"
     ]
    }
   ],
   "source": [
    "autoencoder.summary()"
   ]
  },
  {
   "attachments": {},
   "cell_type": "markdown",
   "metadata": {},
   "source": [
    "#### Training the Data"
   ]
  },
  {
   "cell_type": "code",
   "execution_count": 11,
   "metadata": {},
   "outputs": [
    {
     "name": "stdout",
     "output_type": "stream",
     "text": [
      "Epoch 1/50\n",
      "375/375 [==============================] - 130s 346ms/step - loss: 0.0349 - val_loss: 0.0125\n",
      "Epoch 2/50\n",
      "375/375 [==============================] - 133s 354ms/step - loss: 0.0096 - val_loss: 0.0084\n",
      "Epoch 3/50\n",
      "375/375 [==============================] - 134s 358ms/step - loss: 0.0068 - val_loss: 0.0050\n",
      "Epoch 4/50\n",
      "375/375 [==============================] - 136s 363ms/step - loss: 0.0054 - val_loss: 0.0051\n",
      "Epoch 5/50\n",
      "375/375 [==============================] - 122s 326ms/step - loss: 0.0046 - val_loss: 0.0048\n",
      "Epoch 6/50\n",
      "375/375 [==============================] - 122s 325ms/step - loss: 0.0040 - val_loss: 0.0035\n",
      "Epoch 7/50\n",
      "375/375 [==============================] - 127s 338ms/step - loss: 0.0036 - val_loss: 0.0035\n",
      "Epoch 8/50\n",
      "375/375 [==============================] - 133s 354ms/step - loss: 0.0033 - val_loss: 0.0034\n",
      "Epoch 9/50\n",
      "375/375 [==============================] - 133s 355ms/step - loss: 0.0030 - val_loss: 0.0025\n",
      "Epoch 10/50\n",
      "375/375 [==============================] - 132s 353ms/step - loss: 0.0028 - val_loss: 0.0029\n",
      "Epoch 11/50\n",
      "375/375 [==============================] - 132s 353ms/step - loss: 0.0027 - val_loss: 0.0026\n",
      "Epoch 12/50\n",
      "375/375 [==============================] - 129s 345ms/step - loss: 0.0025 - val_loss: 0.0023\n",
      "Epoch 13/50\n",
      "375/375 [==============================] - 123s 328ms/step - loss: 0.0024 - val_loss: 0.0024\n",
      "Epoch 14/50\n",
      "375/375 [==============================] - 123s 327ms/step - loss: 0.0023 - val_loss: 0.0022\n",
      "Epoch 15/50\n",
      "375/375 [==============================] - 129s 344ms/step - loss: 0.0022 - val_loss: 0.0021\n",
      "Epoch 16/50\n",
      "375/375 [==============================] - 131s 349ms/step - loss: 0.0021 - val_loss: 0.0020\n",
      "Epoch 17/50\n",
      "375/375 [==============================] - 202s 538ms/step - loss: 0.0021 - val_loss: 0.0022\n",
      "Epoch 18/50\n",
      "375/375 [==============================] - 226s 603ms/step - loss: 0.0020 - val_loss: 0.0021\n",
      "Epoch 19/50\n",
      "375/375 [==============================] - 228s 608ms/step - loss: 0.0019 - val_loss: 0.0019\n",
      "Epoch 20/50\n",
      "375/375 [==============================] - 229s 610ms/step - loss: 0.0019 - val_loss: 0.0017\n",
      "Epoch 21/50\n",
      "375/375 [==============================] - 3212s 9s/step - loss: 0.0018 - val_loss: 0.0021\n",
      "Epoch 22/50\n",
      "375/375 [==============================] - 123s 328ms/step - loss: 0.0018 - val_loss: 0.0019\n",
      "Epoch 23/50\n",
      "375/375 [==============================] - 123s 328ms/step - loss: 0.0018 - val_loss: 0.0015\n",
      "Epoch 24/50\n",
      "375/375 [==============================] - 118s 316ms/step - loss: 0.0017 - val_loss: 0.0018\n",
      "Epoch 25/50\n",
      "375/375 [==============================] - 114s 304ms/step - loss: 0.0017 - val_loss: 0.0019\n",
      "Epoch 26/50\n",
      "375/375 [==============================] - 114s 303ms/step - loss: 0.0017 - val_loss: 0.0022\n",
      "Epoch 27/50\n",
      "375/375 [==============================] - 114s 304ms/step - loss: 0.0016 - val_loss: 0.0016\n",
      "Epoch 28/50\n",
      "375/375 [==============================] - 114s 304ms/step - loss: 0.0016 - val_loss: 0.0017\n",
      "Epoch 29/50\n",
      "375/375 [==============================] - 114s 304ms/step - loss: 0.0016 - val_loss: 0.0014\n",
      "Epoch 30/50\n",
      "375/375 [==============================] - 114s 304ms/step - loss: 0.0016 - val_loss: 0.0017\n",
      "Epoch 31/50\n",
      "375/375 [==============================] - 114s 304ms/step - loss: 0.0015 - val_loss: 0.0015\n",
      "Epoch 32/50\n",
      "375/375 [==============================] - 114s 304ms/step - loss: 0.0015 - val_loss: 0.0015\n",
      "Epoch 33/50\n",
      "375/375 [==============================] - 114s 304ms/step - loss: 0.0015 - val_loss: 0.0015\n",
      "Epoch 34/50\n",
      "375/375 [==============================] - 114s 303ms/step - loss: 0.0015 - val_loss: 0.0014\n",
      "Epoch 35/50\n",
      "375/375 [==============================] - 114s 303ms/step - loss: 0.0015 - val_loss: 0.0018\n",
      "Epoch 36/50\n",
      "375/375 [==============================] - 114s 303ms/step - loss: 0.0014 - val_loss: 0.0014\n",
      "Epoch 37/50\n",
      "375/375 [==============================] - 114s 304ms/step - loss: 0.0014 - val_loss: 0.0013\n",
      "Epoch 38/50\n",
      "375/375 [==============================] - 114s 304ms/step - loss: 0.0014 - val_loss: 0.0015\n",
      "Epoch 39/50\n",
      "375/375 [==============================] - 115s 307ms/step - loss: 0.0014 - val_loss: 0.0017\n",
      "Epoch 40/50\n",
      "375/375 [==============================] - 124s 331ms/step - loss: 0.0014 - val_loss: 0.0017\n",
      "Epoch 41/50\n",
      "375/375 [==============================] - 123s 329ms/step - loss: 0.0014 - val_loss: 0.0014\n",
      "Epoch 42/50\n",
      "375/375 [==============================] - 121s 323ms/step - loss: 0.0014 - val_loss: 0.0015\n",
      "Epoch 43/50\n",
      "375/375 [==============================] - 114s 305ms/step - loss: 0.0014 - val_loss: 0.0016\n",
      "Epoch 44/50\n",
      "375/375 [==============================] - 114s 304ms/step - loss: 0.0013 - val_loss: 0.0015\n",
      "Epoch 45/50\n",
      "375/375 [==============================] - 114s 304ms/step - loss: 0.0013 - val_loss: 0.0013\n",
      "Epoch 46/50\n",
      "375/375 [==============================] - 114s 305ms/step - loss: 0.0013 - val_loss: 0.0016\n",
      "Epoch 47/50\n",
      "375/375 [==============================] - 114s 305ms/step - loss: 0.0013 - val_loss: 0.0014\n",
      "Epoch 48/50\n",
      "375/375 [==============================] - 114s 304ms/step - loss: 0.0013 - val_loss: 0.0014\n",
      "Epoch 49/50\n",
      "375/375 [==============================] - 114s 305ms/step - loss: 0.0013 - val_loss: 0.0013\n",
      "Epoch 50/50\n",
      "375/375 [==============================] - 114s 304ms/step - loss: 0.0013 - val_loss: 0.0013\n"
     ]
    }
   ],
   "source": [
    "autoencoder_train = autoencoder.fit(train_X, train_ground, batch_size=batch_size,epochs=epochs,verbose=1,validation_data=(valid_X, valid_ground)) "
   ]
  },
  {
   "cell_type": "code",
   "execution_count": 12,
   "metadata": {},
   "outputs": [
    {
     "name": "stdout",
     "output_type": "stream",
     "text": [
      "313/313 [==============================] - 5s 15ms/step\n"
     ]
    },
    {
     "data": {
      "text/plain": [
       "(10000, 28, 28, 1)"
      ]
     },
     "execution_count": 12,
     "metadata": {},
     "output_type": "execute_result"
    }
   ],
   "source": [
    "pred = autoencoder.predict(test_data)\n",
    "pred.shape"
   ]
  },
  {
   "cell_type": "code",
   "execution_count": 13,
   "metadata": {},
   "outputs": [],
   "source": [
    "autoencoder.save('test.h5')"
   ]
  },
  {
   "cell_type": "code",
   "execution_count": 17,
   "metadata": {},
   "outputs": [
    {
     "name": "stdout",
     "output_type": "stream",
     "text": [
      "313/313 [==============================] - 5s 16ms/step\n"
     ]
    },
    {
     "data": {
      "text/plain": [
       "2"
      ]
     },
     "execution_count": 17,
     "metadata": {},
     "output_type": "execute_result"
    }
   ],
   "source": [
    "autoencoder2 = keras.models.load_model('./test.h5') \n",
    "pred = autoencoder2.predict(test_data)\n",
    "\n",
    "    "
   ]
  },
  {
   "cell_type": "code",
   "execution_count": 15,
   "metadata": {},
   "outputs": [
    {
     "name": "stdout",
     "output_type": "stream",
     "text": [
      "Test Images\n",
      "(10000, 28, 28, 1)\n",
      "(10000, 28, 28, 1)\n",
      "(10000, 28, 28, 1)\n",
      "(10000, 28, 28, 1)\n",
      "(10000, 28, 28, 1)\n",
      "(10000, 28, 28, 1)\n",
      "(10000, 28, 28, 1)\n",
      "(10000, 28, 28, 1)\n",
      "(10000, 28, 28, 1)\n",
      "(10000, 28, 28, 1)\n"
     ]
    },
    {
     "data": {
      "image/png": "[encoded data removed]",
      "text/plain": [
       "<Figure size 2000x400 with 10 Axes>"
      ]
     },
     "metadata": {},
     "output_type": "display_data"
    },
    {
     "name": "stdout",
     "output_type": "stream",
     "text": [
      "Reconstruction of Test Images\n"
     ]
    },
    {
     "data": {
      "image/png": "[encoded data removed]",
      "text/plain": [
       "<Figure size 2000x400 with 10 Axes>"
      ]
     },
     "metadata": {},
     "output_type": "display_data"
    }
   ],
   "source": [
    "plt.figure(figsize=(20, 4))\n",
    "print(\"Test Images\")\n",
    "for i in range(10):\n",
    "    plt.subplot(2, 10, i+1)\n",
    "    print(test_data.shape)\n",
    "    plt.imshow(test_data[i, ..., 0], cmap='gray')\n",
    "    # curr_lbl = test_labels[i]\n",
    "    # plt.title(\"(Label: \" + str(label_dict[curr_lbl]) + \")\")\n",
    "plt.show()    \n",
    "plt.figure(figsize=(20, 4))\n",
    "print(\"Reconstruction of Test Images\")\n",
    "for i in range(10):\n",
    "    plt.subplot(2, 10, i+1)\n",
    "    plt.imshow(pred[i, ..., 0], cmap='gray')  \n",
    "plt.show()"
   ]
  },
  {
   "cell_type": "code",
   "execution_count": 16,
   "metadata": {},
   "outputs": [
    {
     "data": {
      "text/plain": [
       "array([[3, 1],\n",
       "       [3, 1]])"
      ]
     },
     "execution_count": 16,
     "metadata": {},
     "output_type": "execute_result"
    }
   ],
   "source": [
    "a = np.array([[[3,2],[1,2]],[[3,2],[1,2]]])\n",
    "a[...,0]"
   ]
  }
 ],
 "metadata": {
  "kernelspec": {
   "display_name": "Python 3",
   "language": "python",
   "name": "python3"
  },
  "language_info": {
   "codemirror_mode": {
    "name": "ipython",
    "version": 3
   },
   "file_extension": ".py",
   "mimetype": "text/x-python",
   "name": "python",
   "nbconvert_exporter": "python",
   "pygments_lexer": "ipython3",
   "version": "3.10.6"
  },
  "orig_nbformat": 4,
  "vscode": {
   "interpreter": {
    "hash": "916dbcbb3f70747c44a77c7bcd40155683ae19c65e1c03b4aa3499c5328201f1"
   }
  }
 },
 "nbformat": 4,
 "nbformat_minor": 2
}
