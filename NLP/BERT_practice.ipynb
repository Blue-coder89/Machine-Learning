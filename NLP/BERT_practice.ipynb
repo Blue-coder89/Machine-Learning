{
  "nbformat": 4,
  "nbformat_minor": 0,
  "metadata": {
    "colab": {
      "provenance": [],
      "authorship_tag": "ABX9TyML3qZA+4eMCeEBdKs6d/1O",
      "include_colab_link": true
    },
    "kernelspec": {
      "name": "python3",
      "display_name": "Python 3"
    },
    "language_info": {
      "name": "python"
    }
  },
  "cells": [
    {
      "cell_type": "markdown",
      "metadata": {
        "id": "view-in-github",
        "colab_type": "text"
      },
      "source": [
        "<a href=\"https://colab.research.google.com/github/Blue-coder89/Machine-Learning/blob/main/NLP/BERT_practice.ipynb\" target=\"_parent\"><img src=\"https://colab.research.google.com/assets/colab-badge.svg\" alt=\"Open In Colab\"/></a>"
      ]
    },
    {
      "cell_type": "markdown",
      "source": [
        "##TOKENIZING AS A PREPROCESSING STEP"
      ],
      "metadata": {
        "id": "huRt5SAH60-g"
      }
    },
    {
      "cell_type": "code",
      "execution_count": 35,
      "metadata": {
        "id": "EgLGMSyn5GMN"
      },
      "outputs": [],
      "source": [
        "from transformers import BertTokenizer\n",
        "\n",
        "tokenizer = BertTokenizer.from_pretrained('bert-base-uncased')\n",
        "text = \"BERT preprocessing is essential.\"\n",
        "tokens = tokenizer.tokenize(text)"
      ]
    },
    {
      "cell_type": "markdown",
      "source": [
        "## BERT in text classification"
      ],
      "metadata": {
        "id": "lFsGPXcM9RiS"
      }
    },
    {
      "cell_type": "code",
      "source": [
        "from transformers import BertForSequenceClassification\n",
        "import torch\n",
        "model = BertForSequenceClassification.from_pretrained('bert-base-uncased')\n",
        "\n",
        "text = \"This movie was amazing!\"\n",
        "inputs = tokenizer(text,return_tensors='pt')\n",
        "print(inputs)\n",
        "outputs = model(**inputs)\n",
        "predictions = torch.argmax(outputs.logits,dim=1)\n",
        "print(predictions)"
      ],
      "metadata": {
        "id": "HLmTVYF57GFj",
        "outputId": "d6678060-6a6c-4c31-aec9-979e033e5a6b",
        "colab": {
          "base_uri": "https://localhost:8080/"
        }
      },
      "execution_count": 36,
      "outputs": [
        {
          "output_type": "stream",
          "name": "stderr",
          "text": [
            "Some weights of BertForSequenceClassification were not initialized from the model checkpoint at bert-base-uncased and are newly initialized: ['classifier.weight', 'classifier.bias']\n",
            "You should probably TRAIN this model on a down-stream task to be able to use it for predictions and inference.\n"
          ]
        },
        {
          "output_type": "stream",
          "name": "stdout",
          "text": [
            "{'input_ids': tensor([[ 101, 2023, 3185, 2001, 6429,  999,  102]]), 'token_type_ids': tensor([[0, 0, 0, 0, 0, 0, 0]]), 'attention_mask': tensor([[1, 1, 1, 1, 1, 1, 1]])}\n",
            "tensor([0])\n"
          ]
        }
      ]
    },
    {
      "cell_type": "code",
      "source": [
        "from transformers import BertModel\n",
        "\n",
        "model = BertModel.from_pretrained('bert-base-uncased')\n",
        "\n",
        "text = \"!\"\n",
        "inputs = tokenizer(text,return_tensors='pt',padding=True,truncation=True)\n",
        "outputs = model(**inputs,output_attentions=True)\n",
        "attention_weights = outputs.attentions\n",
        "print(f\"Shape: (batch,num_heads(Number of parallel self attention layers),sequence_length,sequence_length):{attention_weights[0].shape},number of encoding layers: {len(attention_weights)}\")"
      ],
      "metadata": {
        "id": "fSdRW6ve9Wwn",
        "outputId": "8182888d-ae26-415c-af67-5ff5067c2806",
        "colab": {
          "base_uri": "https://localhost:8080/"
        }
      },
      "execution_count": 37,
      "outputs": [
        {
          "output_type": "stream",
          "name": "stdout",
          "text": [
            "Shape: (batch,num_heads(Number of parallel self attention layers),sequence_length,sequence_length):torch.Size([1, 12, 3, 3]),number of encoding layers: 12\n"
          ]
        }
      ]
    },
    {
      "cell_type": "markdown",
      "source": [
        "## Example of how a model might be pre-trained"
      ],
      "metadata": {
        "id": "zXSPtquKFlui"
      }
    },
    {
      "cell_type": "code",
      "source": [
        "from transformers import BertForMaskedLM\n",
        "## BertForMaskedLM has a MLM head on top of the core BERT model. A MLM head is a linear layer which maps BERT output to a single token (which BERT thinks will replace <MASK> in the input)\n",
        "\n",
        "model = BertForMaskedLM.from_pretrained('bert-base-uncased')\n",
        "\n",
        "text = \"Bert is a powerful language model\"\n",
        "inputs = tokenizer(text,return_tensors='pt',padding=True,truncation=True,add_special_tokens=True)\n",
        "outputs = model(**inputs,labels=inputs['input_ids'])\n",
        "\n",
        "print(outputs.loss)"
      ],
      "metadata": {
        "id": "F8fU4ZZz_mTr",
        "outputId": "572cea55-198c-4eb1-a303-e51fb8454aca",
        "colab": {
          "base_uri": "https://localhost:8080/"
        }
      },
      "execution_count": 38,
      "outputs": [
        {
          "output_type": "stream",
          "name": "stderr",
          "text": [
            "Some weights of the model checkpoint at bert-base-uncased were not used when initializing BertForMaskedLM: ['bert.pooler.dense.weight', 'cls.seq_relationship.bias', 'cls.seq_relationship.weight', 'bert.pooler.dense.bias']\n",
            "- This IS expected if you are initializing BertForMaskedLM from the checkpoint of a model trained on another task or with another architecture (e.g. initializing a BertForSequenceClassification model from a BertForPreTraining model).\n",
            "- This IS NOT expected if you are initializing BertForMaskedLM from the checkpoint of a model that you expect to be exactly identical (initializing a BertForSequenceClassification model from a BertForSequenceClassification model).\n"
          ]
        },
        {
          "output_type": "stream",
          "name": "stdout",
          "text": [
            "tensor(5.7514, grad_fn=<NllLossBackward0>)\n"
          ]
        }
      ]
    }
  ]
}