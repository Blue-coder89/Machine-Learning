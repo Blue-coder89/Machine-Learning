{
  "nbformat": 4,
  "nbformat_minor": 0,
  "metadata": {
    "colab": {
      "provenance": [],
      "authorship_tag": "ABX9TyMrag2Jb9n5EorqXLhe6jRL",
      "include_colab_link": true
    },
    "kernelspec": {
      "name": "python3",
      "display_name": "Python 3"
    },
    "language_info": {
      "name": "python"
    }
  },
  "cells": [
    {
      "cell_type": "markdown",
      "metadata": {
        "id": "view-in-github",
        "colab_type": "text"
      },
      "source": [
        "<a href=\"https://colab.research.google.com/github/Blue-coder89/Machine-Learning/blob/main/OwnTransformer.ipynb\" target=\"_parent\"><img src=\"https://colab.research.google.com/assets/colab-badge.svg\" alt=\"Open In Colab\"/></a>"
      ]
    },
    {
      "cell_type": "code",
      "execution_count": null,
      "metadata": {
        "id": "Bpv-vUQqTIIJ"
      },
      "outputs": [],
      "source": [
        "import torch\n",
        "import torch.nn as nn\n",
        "import torch.optim as optim\n",
        "import torch.utils.data as data\n",
        "import math\n",
        "import copy"
      ]
    },
    {
      "cell_type": "code",
      "source": [
        "class MultiHeadAttention(nn.Module):\n",
        "  def __init__(self,d_model,num_heads):\n",
        "    super(MultiHeadAttention,self).__init__()\n",
        "    ## Ensure that the model dimension is divisible by the number of heads\n",
        "    assert d_model%num_heads == 0 , \"d_model must be divisible by num_heads\"\n",
        "    ## Initialize dimensions\n",
        "    self.d_model = d_model ## Model dimension\n",
        "    self.num_heads = num_heads ## number of attention heads\n",
        "    self.d_k = d_model//num_heads ## Dimension of each head's key,query,value\n",
        "    ## Linear model for transforming input\n",
        "    self.W_q = nn.Linear(d_model,d_model) ## Query transformation\n",
        "    self.W_k = nn.Linear(d_model,d_model) ## Key transformation\n",
        "    self.W_v = nn.Linear(d_model,d_model) ## Value transformation\n",
        "    self.W_o = nn.Linear(d_model,d_model) ## Output transformation\n",
        "\n",
        "  def split_heads(self,x):\n",
        "    ## Reshape the input for num_heads to have multi-head attention\n",
        "    batch_size,seq_length,d_model = x.size()\n",
        "    return x.view(batch_size,seq_length,self.num_heads,self.d_k).transpose(1,2)\n",
        "\n",
        "  def combine_heads(self,x):\n",
        "    ## combine the multiple heads back to original shape\n",
        "    batch_size,_,seq_len,d_k = x.size()\n",
        "    return x.transpose(1,2).contigous().view(batch_size,seq_len,self.d_model)\n",
        "\n",
        "  def scaled_dot_product_attention(self,Q,K,V,mask=None):\n",
        "    ## calculate attention scores\n",
        "    attn_scores = torch.matmul(Q,K.transpose(-2,-1))/math.sqrt(self.d_k)\n",
        "    ## apply mask if provided. Useful to prevent attention to certain parts like padding\n",
        "    if mask is not None:\n",
        "      attn_scores = attn_scores.masked_fill(mask==0,-1e9)\n",
        "    ## finding probabilities using softmax\n",
        "    attn_probs = torch.softmax(attn_scores,dim=-1)\n",
        "    ## multiplying by values to obtain the final output\n",
        "    return torch.matmul(attn_probs,V)\n",
        "\n",
        "  def forward(self,Q,K,V,mask=None):\n",
        "    ## Apply linear transformation and split heads\n",
        "    Q = self.split_heads(self.W_q(Q))\n",
        "    K = self.split_heads(self.W_k(K))\n",
        "    V = self.split_heads(self.W_v(V))\n",
        "\n",
        "    ## performed scaled dot product\n",
        "    attn_output = self.scaled_dot_product_attention(Q,K,V,mask)\n",
        "\n",
        "    output = self.W_o(self.combine_heads(attn_output))\n",
        "    return output\n",
        "\n",
        "\n"
      ],
      "metadata": {
        "id": "LLETYeT5Tg3W"
      },
      "execution_count": null,
      "outputs": []
    },
    {
      "cell_type": "code",
      "source": [
        "class PositionWiseFeedForward(nn.Module):\n",
        "  def __init__(self,d_model,d_ff):\n",
        "    super().__init__()\n",
        "    self.fc1 = nn.Linear(d_model,d_ff)\n",
        "    self.fc2 = nn.Linear(d_ff,d_model)\n",
        "    self.relu = nn.ReLU()\n",
        "\n",
        "  def forward(self,x):\n",
        "    self.fc2(self.relu(self.fc1))"
      ],
      "metadata": {
        "id": "ScSOyKRSjjNN"
      },
      "execution_count": null,
      "outputs": []
    },
    {
      "cell_type": "code",
      "source": [
        "class PositionalEncoding(nn.Module):\n",
        "  def __init__(self,d_model,max_seq_length):\n",
        "    super().__init__()\n",
        "\n",
        "    pe = torch.zeros(max_seq_length,d_model)\n",
        "    position = torch.arange(0,max_seq_length,dtype=torch.float).unsqueeze(1)\n",
        "    div_term = torch.exp(torch.arange(0,d_model,2).float()* -(math.log(10000.0)/d_model))\n",
        "    pe[:,0::2] = torch.sin(position*div_term)\n",
        "    pe[:,1::2] = torch.cos(position*div_term)\n",
        "\n",
        "    self.register_buffer('pe',pe.unsqueeze(0))"
      ],
      "metadata": {
        "id": "L3ueUQIM_WvV"
      },
      "execution_count": null,
      "outputs": []
    },
    {
      "cell_type": "code",
      "source": [
        "class EncoderLayer(nn.Module):\n",
        "  def __init__(self,d_model,num_heads,d_ff,dropout):\n",
        "    super().__init__()\n",
        "    self.self_attn = MultiHeadAttention(d_model,num_heads)\n",
        "    self.feed_forward = PositionWiseFeedForward(d_model,d_ff)\n",
        "    self.norm1 = nn.LayerNorm(d_model)\n",
        "    self.norm2 = nn.LayerNorm(d_model)\n",
        "    self.dropout = nn.Dropout(dropout)\n",
        "\n",
        "  def forward(self,x,mask):\n",
        "    attn_output = self.self_attn(x,x,x,mask)\n",
        "    x = self.norm1(x + self.dropout(attn_output))\n",
        "    ff_output = self.feed_forward(x)\n",
        "    x = self.norm2(x + self.dropout(ff_output))\n",
        "    return x\n"
      ],
      "metadata": {
        "id": "vGcRvLq798SC"
      },
      "execution_count": null,
      "outputs": []
    },
    {
      "cell_type": "code",
      "source": [
        "class DecoderLayer(nn.Module):\n",
        "  def __init__(self,d_model,num_heads,d_ff,dropout):\n",
        "    super().__init__()\n",
        "    self.self_attn = MultiHeadAttention(d_model,num_heads)\n",
        "    self.cross_attn = MultiHeadAttention(d_model,num_heads)\n",
        "    self.feed_forward = PositionWiseFeedForward(d_model,d_ff)\n",
        "    self.norm1 = nn.LayerNorm(d_model)\n",
        "    self.norm2 = nn.LayerNorm(d_model)\n",
        "    self.norm3 = nn.LayerNorm(d_model)\n",
        "    self.dropout = nn.Dropout(dropout)\n",
        "\n",
        "  def forward(self,x,enc_output,src_mask,tgt_mask):\n",
        "    attn_output = self.self_attn(x,x,x,tgt_mask)\n",
        "    x = self.norm1(x + self.dropout(attn_output))\n",
        "    attn_output = self.cross_attn(x,enc_output,enc_output,src_mask)\n",
        "    x = self.norm2(x + self.dropout(attn_output))\n",
        "    ff_output = self.feed_forward(x)\n",
        "    x = self.norm3(x + self.dropout(ff_output))\n",
        "    return x"
      ],
      "metadata": {
        "id": "XZcfO-uXhCiq"
      },
      "execution_count": null,
      "outputs": []
    },
    {
      "cell_type": "code",
      "source": [
        "class Transformer(nn.Module):\n",
        "  def __init__(self,src_vocab_size,tgt_vocab_size,d_model,num_heads,num_layers,d_ff,max_seq_length,dropout):\n",
        "    super().__init__()\n",
        "    self.encoder_embedding = nn.Embedding(src_vocab_size,d_model)\n",
        "    self.decoder_embedding = nn.Embedding(tgt_vocab_size,d_model)\n",
        "    self.positional_encoding = PositionalEncoding(d_model,max_seq_length)\n",
        "\n",
        "    self.encoder_layers = nn.ModuleList([EncoderLayer(d_model,num_heads,d_ff,dropout) for _ in range(num_layers)])\n",
        "    self.decoder_layers = nn.ModuleList([DecoderLayer(d_model,num_heads,d_ff,dropout) for _ in range(num_layers)])\n",
        "\n",
        "    self.fc = nn.Linear(d_model,tgt_vocab_size)\n",
        "    self.dropout = nn.Dropout(dropout)\n",
        "\n",
        "  def generate_mask(self,src,tgt):\n",
        "    src_mask = (src != 0).unsqueeze(1).unsqueeze(2)\n",
        "    tgt_mask = (tgt != 0).unsqueeze(1).unsqueeze(3)\n",
        "    seq_length = tgt.size(1)\n",
        "    nopeak_mask = (1 - torch.triu(torch.ones(1,seq_length,seq_length),diagonal=1)).bool()\n",
        "    tgt_mask = tgt_mask & nopeak_mask\n",
        "    return src_mask,tgt_mask\n",
        "\n",
        "  def forward(self, src, tgt):\n",
        "        src_mask, tgt_mask = self.generate_mask(src, tgt)\n",
        "        src_embedded = self.dropout(self.positional_encoding(self.encoder_embedding(src)))\n",
        "        tgt_embedded = self.dropout(self.positional_encoding(self.decoder_embedding(tgt)))\n",
        "\n",
        "        enc_output = src_embedded\n",
        "        for enc_layer in self.encoder_layers:\n",
        "            enc_output = enc_layer(enc_output, src_mask)\n",
        "\n",
        "        dec_output = tgt_embedded\n",
        "        for dec_layer in self.decoder_layers:\n",
        "            dec_output = dec_layer(dec_output, enc_output, src_mask, tgt_mask)\n",
        "\n",
        "        output = self.fc(dec_output)\n",
        "        return output\n"
      ],
      "metadata": {
        "id": "8e7sGa8ujxfi"
      },
      "execution_count": null,
      "outputs": []
    }
  ]
}