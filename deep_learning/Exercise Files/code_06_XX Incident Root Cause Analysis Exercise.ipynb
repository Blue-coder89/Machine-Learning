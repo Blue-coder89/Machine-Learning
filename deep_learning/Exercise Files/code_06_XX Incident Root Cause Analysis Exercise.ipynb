{
 "cells": [
  {
   "cell_type": "markdown",
   "metadata": {},
   "source": [
    "#  Incident Root Cause Analysis \n",
    "\n",
    "Incident Reports in ITOps usually states the symptoms. Identifying the root cause of the symptom quickly is a key determinant to reducing resolution times and improving user satisfaction."
   ]
  },
  {
   "cell_type": "markdown",
   "metadata": {},
   "source": [
    "# 06.02. Preprocessing Incident Data\n",
    "\n",
    "### Loading the Dataset"
   ]
  },
  {
   "cell_type": "code",
   "execution_count": 120,
   "metadata": {
    "scrolled": true
   },
   "outputs": [
    {
     "name": "stdout",
     "output_type": "stream",
     "text": [
      "ID                   int64\n",
      "CPU_LOAD             int64\n",
      "MEMORY_LEAK_LOAD     int64\n",
      "DELAY                int64\n",
      "ERROR_1000           int64\n",
      "ERROR_1001           int64\n",
      "ERROR_1002           int64\n",
      "ERROR_1003           int64\n",
      "ROOT_CAUSE          object\n",
      "dtype: object\n"
     ]
    },
    {
     "data": {
      "text/html": [
       "<div>\n",
       "<style scoped>\n",
       "    .dataframe tbody tr th:only-of-type {\n",
       "        vertical-align: middle;\n",
       "    }\n",
       "\n",
       "    .dataframe tbody tr th {\n",
       "        vertical-align: top;\n",
       "    }\n",
       "\n",
       "    .dataframe thead th {\n",
       "        text-align: right;\n",
       "    }\n",
       "</style>\n",
       "<table border=\"1\" class=\"dataframe\">\n",
       "  <thead>\n",
       "    <tr style=\"text-align: right;\">\n",
       "      <th></th>\n",
       "      <th>ID</th>\n",
       "      <th>CPU_LOAD</th>\n",
       "      <th>MEMORY_LEAK_LOAD</th>\n",
       "      <th>DELAY</th>\n",
       "      <th>ERROR_1000</th>\n",
       "      <th>ERROR_1001</th>\n",
       "      <th>ERROR_1002</th>\n",
       "      <th>ERROR_1003</th>\n",
       "      <th>ROOT_CAUSE</th>\n",
       "    </tr>\n",
       "  </thead>\n",
       "  <tbody>\n",
       "    <tr>\n",
       "      <th>0</th>\n",
       "      <td>1</td>\n",
       "      <td>0</td>\n",
       "      <td>0</td>\n",
       "      <td>0</td>\n",
       "      <td>0</td>\n",
       "      <td>1</td>\n",
       "      <td>0</td>\n",
       "      <td>1</td>\n",
       "      <td>MEMORY_LEAK</td>\n",
       "    </tr>\n",
       "    <tr>\n",
       "      <th>1</th>\n",
       "      <td>2</td>\n",
       "      <td>0</td>\n",
       "      <td>0</td>\n",
       "      <td>0</td>\n",
       "      <td>0</td>\n",
       "      <td>0</td>\n",
       "      <td>0</td>\n",
       "      <td>1</td>\n",
       "      <td>MEMORY_LEAK</td>\n",
       "    </tr>\n",
       "    <tr>\n",
       "      <th>2</th>\n",
       "      <td>3</td>\n",
       "      <td>0</td>\n",
       "      <td>1</td>\n",
       "      <td>1</td>\n",
       "      <td>0</td>\n",
       "      <td>0</td>\n",
       "      <td>1</td>\n",
       "      <td>1</td>\n",
       "      <td>MEMORY_LEAK</td>\n",
       "    </tr>\n",
       "    <tr>\n",
       "      <th>3</th>\n",
       "      <td>4</td>\n",
       "      <td>0</td>\n",
       "      <td>1</td>\n",
       "      <td>0</td>\n",
       "      <td>1</td>\n",
       "      <td>1</td>\n",
       "      <td>0</td>\n",
       "      <td>1</td>\n",
       "      <td>MEMORY_LEAK</td>\n",
       "    </tr>\n",
       "    <tr>\n",
       "      <th>4</th>\n",
       "      <td>5</td>\n",
       "      <td>1</td>\n",
       "      <td>1</td>\n",
       "      <td>0</td>\n",
       "      <td>1</td>\n",
       "      <td>0</td>\n",
       "      <td>1</td>\n",
       "      <td>0</td>\n",
       "      <td>NETWORK_DELAY</td>\n",
       "    </tr>\n",
       "  </tbody>\n",
       "</table>\n",
       "</div>"
      ],
      "text/plain": [
       "   ID  CPU_LOAD  MEMORY_LEAK_LOAD  DELAY  ERROR_1000  ERROR_1001  ERROR_1002  \\\n",
       "0   1         0                 0      0           0           1           0   \n",
       "1   2         0                 0      0           0           0           0   \n",
       "2   3         0                 1      1           0           0           1   \n",
       "3   4         0                 1      0           1           1           0   \n",
       "4   5         1                 1      0           1           0           1   \n",
       "\n",
       "   ERROR_1003     ROOT_CAUSE  \n",
       "0           1    MEMORY_LEAK  \n",
       "1           1    MEMORY_LEAK  \n",
       "2           1    MEMORY_LEAK  \n",
       "3           1    MEMORY_LEAK  \n",
       "4           0  NETWORK_DELAY  "
      ]
     },
     "execution_count": 120,
     "metadata": {},
     "output_type": "execute_result"
    }
   ],
   "source": [
    "import pandas as pd\n",
    "import os\n",
    "import tensorflow as tf\n",
    "\n",
    "#Load the data file into a Pandas Dataframe\n",
    "symptom_data = pd.read_csv(\"root_cause_analysis.csv\")\n",
    "\n",
    "#Explore the data loaded\n",
    "print(symptom_data.dtypes)\n",
    "symptom_data.head()"
   ]
  },
  {
   "cell_type": "markdown",
   "metadata": {},
   "source": [
    "### Convert  data\n",
    "\n",
    "Input data needs to be converted to formats that can be consumed by ML algorithms"
   ]
  },
  {
   "cell_type": "code",
   "execution_count": 121,
   "metadata": {},
   "outputs": [
    {
     "name": "stdout",
     "output_type": "stream",
     "text": [
      "Shape of feature variables : (900, 7)\n",
      "Shape of target variable : (900, 3)\n"
     ]
    }
   ],
   "source": [
    "from sklearn import preprocessing\n",
    "from sklearn.model_selection import train_test_split\n",
    "\n",
    "label_encoder = preprocessing.LabelEncoder()\n",
    "symptom_data['ROOT_CAUSE'] = label_encoder.fit_transform(\n",
    "                                symptom_data['ROOT_CAUSE'])\n",
    "\n",
    "#Convert Pandas DataFrame to a numpy vector\n",
    "np_symptom = symptom_data.to_numpy().astype(float)\n",
    "\n",
    "#Extract the feature variables (X)\n",
    "X_data = np_symptom[:,1:8]\n",
    "\n",
    "#Extract the target variable (Y), conver to one-hot-encodign\n",
    "Y_data=np_symptom[:,8]\n",
    "Y_data = tf.keras.utils.to_categorical(Y_data,3)\n",
    "\n",
    "#Split training and test data\n",
    "X_train,X_test,Y_train,Y_test = train_test_split( X_data, Y_data, test_size=0.10)\n",
    "\n",
    "print(\"Shape of feature variables :\", X_train.shape)\n",
    "print(\"Shape of target variable :\",Y_train.shape)"
   ]
  },
  {
   "cell_type": "markdown",
   "metadata": {},
   "source": [
    "## 06.03. Building and evaluating the model"
   ]
  },
  {
   "cell_type": "code",
   "execution_count": 122,
   "metadata": {},
   "outputs": [
    {
     "name": "stdout",
     "output_type": "stream",
     "text": [
      "Model: \"sequential_1\"\n",
      "_________________________________________________________________\n",
      " Layer (type)                Output Shape              Param #   \n",
      "=================================================================\n",
      " Dense-Layer-1 (Dense)       (None, 128)               1024      \n",
      "                                                                 \n",
      " Dense-Layer-2 (Dense)       (None, 128)               16512     \n",
      "                                                                 \n",
      " Final (Dense)               (None, 3)                 387       \n",
      "                                                                 \n",
      "=================================================================\n",
      "Total params: 17,923\n",
      "Trainable params: 17,923\n",
      "Non-trainable params: 0\n",
      "_________________________________________________________________\n",
      "Epoch 1/20\n",
      "12/12 [==============================] - 1s 17ms/step - loss: 0.9277 - accuracy: 0.6806 - val_loss: 0.7558 - val_accuracy: 0.7833\n",
      "Epoch 2/20\n",
      "12/12 [==============================] - 0s 4ms/step - loss: 0.6521 - accuracy: 0.8347 - val_loss: 0.5959 - val_accuracy: 0.8111\n",
      "Epoch 3/20\n",
      "12/12 [==============================] - 0s 4ms/step - loss: 0.5267 - accuracy: 0.8389 - val_loss: 0.5289 - val_accuracy: 0.8056\n",
      "Epoch 4/20\n",
      "12/12 [==============================] - 0s 4ms/step - loss: 0.4776 - accuracy: 0.8431 - val_loss: 0.4913 - val_accuracy: 0.8278\n",
      "Epoch 5/20\n",
      "12/12 [==============================] - 0s 4ms/step - loss: 0.4515 - accuracy: 0.8458 - val_loss: 0.4812 - val_accuracy: 0.8000\n",
      "Epoch 6/20\n",
      "12/12 [==============================] - 0s 4ms/step - loss: 0.4380 - accuracy: 0.8431 - val_loss: 0.4766 - val_accuracy: 0.8056\n",
      "Epoch 7/20\n",
      "12/12 [==============================] - 0s 5ms/step - loss: 0.4291 - accuracy: 0.8417 - val_loss: 0.4830 - val_accuracy: 0.8278\n",
      "Epoch 8/20\n",
      "12/12 [==============================] - 0s 5ms/step - loss: 0.4225 - accuracy: 0.8500 - val_loss: 0.4902 - val_accuracy: 0.8000\n",
      "Epoch 9/20\n",
      "12/12 [==============================] - 0s 5ms/step - loss: 0.4203 - accuracy: 0.8458 - val_loss: 0.4672 - val_accuracy: 0.8222\n",
      "Epoch 10/20\n",
      "12/12 [==============================] - 0s 6ms/step - loss: 0.4105 - accuracy: 0.8542 - val_loss: 0.4610 - val_accuracy: 0.8222\n",
      "Epoch 11/20\n",
      "12/12 [==============================] - 0s 6ms/step - loss: 0.4103 - accuracy: 0.8458 - val_loss: 0.4515 - val_accuracy: 0.8111\n",
      "Epoch 12/20\n",
      "12/12 [==============================] - 0s 5ms/step - loss: 0.4018 - accuracy: 0.8500 - val_loss: 0.4495 - val_accuracy: 0.8556\n",
      "Epoch 13/20\n",
      "12/12 [==============================] - 0s 4ms/step - loss: 0.4002 - accuracy: 0.8611 - val_loss: 0.4442 - val_accuracy: 0.8167\n",
      "Epoch 14/20\n",
      "12/12 [==============================] - 0s 4ms/step - loss: 0.3920 - accuracy: 0.8556 - val_loss: 0.4443 - val_accuracy: 0.8444\n",
      "Epoch 15/20\n",
      "12/12 [==============================] - 0s 4ms/step - loss: 0.3920 - accuracy: 0.8500 - val_loss: 0.4461 - val_accuracy: 0.8444\n",
      "Epoch 16/20\n",
      "12/12 [==============================] - 0s 4ms/step - loss: 0.3861 - accuracy: 0.8528 - val_loss: 0.4361 - val_accuracy: 0.8500\n",
      "Epoch 17/20\n",
      "12/12 [==============================] - 0s 4ms/step - loss: 0.3800 - accuracy: 0.8625 - val_loss: 0.4402 - val_accuracy: 0.8111\n",
      "Epoch 18/20\n",
      "12/12 [==============================] - 0s 4ms/step - loss: 0.3817 - accuracy: 0.8639 - val_loss: 0.4344 - val_accuracy: 0.8444\n",
      "Epoch 19/20\n",
      "12/12 [==============================] - 0s 5ms/step - loss: 0.3774 - accuracy: 0.8625 - val_loss: 0.4259 - val_accuracy: 0.8167\n",
      "Epoch 20/20\n",
      "12/12 [==============================] - 0s 5ms/step - loss: 0.3739 - accuracy: 0.8611 - val_loss: 0.4209 - val_accuracy: 0.8389\n",
      "\n",
      "Evaluation against Test Dataset :\n",
      "------------------------------------\n",
      "4/4 [==============================] - 0s 3ms/step - loss: 0.5744 - accuracy: 0.7600\n"
     ]
    },
    {
     "data": {
      "text/plain": [
       "[0.5743610262870789, 0.7599999904632568]"
      ]
     },
     "execution_count": 122,
     "metadata": {},
     "output_type": "execute_result"
    }
   ],
   "source": [
    "from tensorflow import keras\n",
    "from tensorflow.keras import optimizers\n",
    "from tensorflow.keras.regularizers import l2\n",
    "\n",
    "#Setup Training Parameters\n",
    "EPOCHS=20\n",
    "BATCH_SIZE=64\n",
    "VERBOSE=1\n",
    "OUTPUT_CLASSES=len(label_encoder.classes_)\n",
    "N_HIDDEN=128\n",
    "VALIDATION_SPLIT=0.2\n",
    "\n",
    "#Create a Keras sequential model\n",
    "model = tf.keras.models.Sequential()\n",
    "#Add a Dense Layer\n",
    "model.add(keras.layers.Dense(N_HIDDEN,\n",
    "                             input_shape=(7,),\n",
    "                              name='Dense-Layer-1',\n",
    "                              activation='relu'))\n",
    "\n",
    "#Add a second dense layer\n",
    "model.add(keras.layers.Dense(N_HIDDEN,\n",
    "                              name='Dense-Layer-2',\n",
    "                              activation='relu'))\n",
    "\n",
    "#Add a softmax layer for categorial prediction\n",
    "model.add(keras.layers.Dense(OUTPUT_CLASSES,\n",
    "                             name='Final',\n",
    "                             activation='softmax'))\n",
    "\n",
    "#Compile the model\n",
    "model.compile(\n",
    "              loss='categorical_crossentropy',\n",
    "              metrics=['accuracy'])\n",
    "\n",
    "\n",
    "model.summary()\n",
    "\n",
    "#Build the model\n",
    "model.fit(X_train,\n",
    "          Y_train,\n",
    "          batch_size=BATCH_SIZE,\n",
    "          epochs=EPOCHS,\n",
    "          verbose=VERBOSE,\n",
    "          validation_split=VALIDATION_SPLIT)\n",
    "\n",
    "\n",
    "#Evaluate the model against the test dataset and print results\n",
    "print(\"\\nEvaluation against Test Dataset :\\n------------------------------------\")\n",
    "model.evaluate(X_test,Y_test)"
   ]
  },
  {
   "cell_type": "markdown",
   "metadata": {},
   "source": [
    "## 06.04. Predicting Root Causes"
   ]
  },
  {
   "cell_type": "code",
   "execution_count": 123,
   "metadata": {},
   "outputs": [
    {
     "name": "stdout",
     "output_type": "stream",
     "text": [
      "1/1 [==============================] - 0s 76ms/step\n",
      "['DATABASE_ISSUE']\n"
     ]
    }
   ],
   "source": [
    "#Pass individual flags to Predict the root cause\n",
    "import numpy as np\n",
    "\n",
    "CPU_LOAD=1\n",
    "MEMORY_LOAD=0\n",
    "DELAY=0\n",
    "ERROR_1000=0\n",
    "ERROR_1001=1\n",
    "ERROR_1002=1\n",
    "ERROR_1003=0\n",
    "\n",
    "prediction=np.argmax(model.predict(\n",
    "    [[CPU_LOAD,MEMORY_LOAD,DELAY,\n",
    "      ERROR_1000,ERROR_1001,ERROR_1002,ERROR_1003]]), axis=1 )\n",
    "\n",
    "print(label_encoder.inverse_transform(prediction))"
   ]
  },
  {
   "cell_type": "code",
   "execution_count": 124,
   "metadata": {},
   "outputs": [
    {
     "name": "stdout",
     "output_type": "stream",
     "text": [
      "1/1 [==============================] - 0s 45ms/step\n",
      "['DATABASE_ISSUE' 'NETWORK_DELAY' 'MEMORY_LEAK' 'DATABASE_ISSUE'\n",
      " 'DATABASE_ISSUE']\n"
     ]
    }
   ],
   "source": [
    "#Predicting as a Batch\n",
    "print(label_encoder.inverse_transform(np.argmax(\n",
    "        model.predict([[1,0,0,0,1,1,0],\n",
    "                                [0,1,1,1,0,0,0],\n",
    "                                [1,1,0,1,1,0,1],\n",
    "                                [0,0,0,0,0,1,0],\n",
    "                                [1,0,1,0,1,1,1]]), axis=1 )))"
   ]
  },
  {
   "attachments": {},
   "cell_type": "markdown",
   "metadata": {},
   "source": [
    "## My Own Model"
   ]
  },
  {
   "attachments": {},
   "cell_type": "markdown",
   "metadata": {},
   "source": [
    "### Libraries "
   ]
  },
  {
   "cell_type": "code",
   "execution_count": 141,
   "metadata": {},
   "outputs": [],
   "source": [
    "from random import shuffle\n",
    "from tensorflow import keras\n",
    "from keras.layers import Input,Dense\n",
    "from keras import initializers,Model\n",
    "import numpy as np"
   ]
  },
  {
   "attachments": {},
   "cell_type": "markdown",
   "metadata": {},
   "source": [
    "### Constants"
   ]
  },
  {
   "cell_type": "code",
   "execution_count": 142,
   "metadata": {},
   "outputs": [],
   "source": [
    "readDataFile = \"root_cause_analysis.csv\"\n",
    "BATCH_SIZE = 16\n",
    "epochs = 50"
   ]
  },
  {
   "attachments": {},
   "cell_type": "markdown",
   "metadata": {},
   "source": [
    "### Loading the data"
   ]
  },
  {
   "cell_type": "code",
   "execution_count": 143,
   "metadata": {},
   "outputs": [],
   "source": [
    "table = pd.read_csv(readDataFile)\n",
    "data = table.values\n",
    "attributes = table.columns"
   ]
  },
  {
   "attachments": {},
   "cell_type": "markdown",
   "metadata": {},
   "source": [
    "### Preprocessing Data"
   ]
  },
  {
   "cell_type": "code",
   "execution_count": 144,
   "metadata": {},
   "outputs": [],
   "source": [
    "def generate(array):\n",
    "    trainy = []\n",
    "    for label in array:\n",
    "        if label == \"MEMORY_LEAK\":\n",
    "            trainy.append([1,0,0])\n",
    "        elif label == \"NETWORK_DELAY\":\n",
    "            trainy.append([0,1,0])\n",
    "        else:\n",
    "            trainy.append([0,0,1])\n",
    "    return np.array(trainy)\n",
    "\n",
    "shuffle(data)\n",
    "listOfClasses = []\n",
    "for tuple in data:\n",
    "    if(tuple[8] not in listOfClasses):\n",
    "        listOfClasses.append(tuple[8])\n",
    "classes = len(listOfClasses)\n",
    "train = data[0:int(0.8*len(data))]\n",
    "validation = data[int(0.8*len(data)):int(0.9*len(data))]\n",
    "test = data[int(0.9*len(data)):len(data)]\n",
    "trainx = train[:,0:8].astype(\"float32\")\n",
    "trainy = generate(train[:,8:9])\n",
    "validationx = validation[:,0:8].astype(\"float32\")\n",
    "validationy = generate(validation[:,8:9])\n",
    "testx = test[:,0:8].astype(\"float32\")\n",
    "testy = generate(test[:,8:9])"
   ]
  },
  {
   "cell_type": "code",
   "execution_count": 145,
   "metadata": {},
   "outputs": [
    {
     "data": {
      "text/plain": [
       "((800, 8), (800, 3))"
      ]
     },
     "execution_count": 145,
     "metadata": {},
     "output_type": "execute_result"
    }
   ],
   "source": [
    "trainx.shape,trainy.shape"
   ]
  },
  {
   "attachments": {},
   "cell_type": "markdown",
   "metadata": {},
   "source": [
    "### Network Architecture"
   ]
  },
  {
   "cell_type": "code",
   "execution_count": 146,
   "metadata": {},
   "outputs": [
    {
     "name": "stdout",
     "output_type": "stream",
     "text": [
      "Model: \"model_10\"\n",
      "_________________________________________________________________\n",
      " Layer (type)                Output Shape              Param #   \n",
      "=================================================================\n",
      " input_15 (InputLayer)       [(None, 8)]               0         \n",
      "                                                                 \n",
      " dense_34 (Dense)            (None, 128)               1152      \n",
      "                                                                 \n",
      " dense_35 (Dense)            (None, 64)                8256      \n",
      "                                                                 \n",
      " dense_36 (Dense)            (None, 3)                 195       \n",
      "                                                                 \n",
      "=================================================================\n",
      "Total params: 9,603\n",
      "Trainable params: 9,603\n",
      "Non-trainable params: 0\n",
      "_________________________________________________________________\n"
     ]
    }
   ],
   "source": [
    "input_layer = Input((8,))\n",
    "hidden_layer1 = Dense(128,activation='relu')(input_layer)\n",
    "hidden_layer2 = Dense(64,activation='relu',kernel_initializer=initializers.RandomNormal(stddev=0.1))(hidden_layer1)\n",
    "output_layer = Dense(3,activation=\"softmax\",kernel_initializer=initializers.RandomNormal(stddev=0.1))(hidden_layer2)\n",
    "model = Model(inputs = input_layer,outputs = output_layer)\n",
    "model.summary()"
   ]
  },
  {
   "attachments": {},
   "cell_type": "markdown",
   "metadata": {},
   "source": [
    "### Training the model"
   ]
  },
  {
   "cell_type": "code",
   "execution_count": 147,
   "metadata": {},
   "outputs": [
    {
     "name": "stdout",
     "output_type": "stream",
     "text": [
      "Epoch 1/50\n",
      "50/50 [==============================] - 1s 5ms/step - loss: 2.2516 - accuracy: 0.3725 - val_loss: 1.3780 - val_accuracy: 0.4200\n",
      "Epoch 2/50\n",
      "50/50 [==============================] - 0s 2ms/step - loss: 1.8609 - accuracy: 0.4425 - val_loss: 2.1584 - val_accuracy: 0.3300\n",
      "Epoch 3/50\n",
      "50/50 [==============================] - 0s 2ms/step - loss: 1.8920 - accuracy: 0.4525 - val_loss: 6.5078 - val_accuracy: 0.3500\n",
      "Epoch 4/50\n",
      "50/50 [==============================] - 0s 2ms/step - loss: 1.6520 - accuracy: 0.5038 - val_loss: 5.5302 - val_accuracy: 0.4100\n",
      "Epoch 5/50\n",
      "50/50 [==============================] - 0s 2ms/step - loss: 1.6737 - accuracy: 0.4975 - val_loss: 3.2073 - val_accuracy: 0.3100\n",
      "Epoch 6/50\n",
      "50/50 [==============================] - 0s 2ms/step - loss: 1.5078 - accuracy: 0.5263 - val_loss: 1.5278 - val_accuracy: 0.4300\n",
      "Epoch 7/50\n",
      "50/50 [==============================] - 0s 2ms/step - loss: 1.4411 - accuracy: 0.5300 - val_loss: 1.0465 - val_accuracy: 0.5900\n",
      "Epoch 8/50\n",
      "50/50 [==============================] - 0s 2ms/step - loss: 1.3291 - accuracy: 0.5550 - val_loss: 1.4870 - val_accuracy: 0.5200\n",
      "Epoch 9/50\n",
      "50/50 [==============================] - 0s 2ms/step - loss: 1.2823 - accuracy: 0.5813 - val_loss: 2.4657 - val_accuracy: 0.5500\n",
      "Epoch 10/50\n",
      "50/50 [==============================] - 0s 2ms/step - loss: 1.2829 - accuracy: 0.6062 - val_loss: 2.1181 - val_accuracy: 0.4000\n",
      "Epoch 11/50\n",
      "50/50 [==============================] - 0s 2ms/step - loss: 1.0863 - accuracy: 0.6162 - val_loss: 0.9917 - val_accuracy: 0.5500\n",
      "Epoch 12/50\n",
      "50/50 [==============================] - 0s 2ms/step - loss: 1.1425 - accuracy: 0.6200 - val_loss: 5.3480 - val_accuracy: 0.3300\n",
      "Epoch 13/50\n",
      "50/50 [==============================] - 0s 2ms/step - loss: 1.0263 - accuracy: 0.6550 - val_loss: 1.3085 - val_accuracy: 0.6600\n",
      "Epoch 14/50\n",
      "50/50 [==============================] - 0s 2ms/step - loss: 1.0544 - accuracy: 0.6575 - val_loss: 1.3587 - val_accuracy: 0.5600\n",
      "Epoch 15/50\n",
      "50/50 [==============================] - 0s 2ms/step - loss: 0.9795 - accuracy: 0.6888 - val_loss: 1.5260 - val_accuracy: 0.5600\n",
      "Epoch 16/50\n",
      "50/50 [==============================] - 0s 2ms/step - loss: 0.9397 - accuracy: 0.6812 - val_loss: 1.5966 - val_accuracy: 0.5400\n",
      "Epoch 17/50\n",
      "50/50 [==============================] - 0s 2ms/step - loss: 0.9195 - accuracy: 0.7138 - val_loss: 3.4923 - val_accuracy: 0.4100\n",
      "Epoch 18/50\n",
      "50/50 [==============================] - 0s 2ms/step - loss: 1.0315 - accuracy: 0.7038 - val_loss: 2.1994 - val_accuracy: 0.5700\n",
      "Epoch 19/50\n",
      "50/50 [==============================] - 0s 2ms/step - loss: 0.9189 - accuracy: 0.6812 - val_loss: 1.1308 - val_accuracy: 0.6100\n",
      "Epoch 20/50\n",
      "50/50 [==============================] - 0s 2ms/step - loss: 0.8114 - accuracy: 0.7075 - val_loss: 1.9486 - val_accuracy: 0.5200\n",
      "Epoch 21/50\n",
      "50/50 [==============================] - 0s 2ms/step - loss: 0.8233 - accuracy: 0.7325 - val_loss: 1.0371 - val_accuracy: 0.6700\n",
      "Epoch 22/50\n",
      "50/50 [==============================] - 0s 2ms/step - loss: 0.7332 - accuracy: 0.7362 - val_loss: 1.5622 - val_accuracy: 0.7100\n",
      "Epoch 23/50\n",
      "50/50 [==============================] - 0s 2ms/step - loss: 0.8147 - accuracy: 0.7250 - val_loss: 2.8758 - val_accuracy: 0.5000\n",
      "Epoch 24/50\n",
      "50/50 [==============================] - 0s 2ms/step - loss: 0.7515 - accuracy: 0.7312 - val_loss: 1.3143 - val_accuracy: 0.5700\n",
      "Epoch 25/50\n",
      "50/50 [==============================] - 0s 2ms/step - loss: 0.7701 - accuracy: 0.7325 - val_loss: 0.6338 - val_accuracy: 0.8000\n",
      "Epoch 26/50\n",
      "50/50 [==============================] - 0s 2ms/step - loss: 0.7100 - accuracy: 0.7525 - val_loss: 2.1077 - val_accuracy: 0.5600\n",
      "Epoch 27/50\n",
      "50/50 [==============================] - 0s 2ms/step - loss: 0.7795 - accuracy: 0.7538 - val_loss: 6.6772 - val_accuracy: 0.4700\n",
      "Epoch 28/50\n",
      "50/50 [==============================] - 0s 2ms/step - loss: 0.7999 - accuracy: 0.7487 - val_loss: 0.9651 - val_accuracy: 0.7100\n",
      "Epoch 29/50\n",
      "50/50 [==============================] - 0s 2ms/step - loss: 0.7340 - accuracy: 0.7450 - val_loss: 0.8782 - val_accuracy: 0.6400\n",
      "Epoch 30/50\n",
      "50/50 [==============================] - 0s 2ms/step - loss: 0.7282 - accuracy: 0.7588 - val_loss: 0.7162 - val_accuracy: 0.7600\n",
      "Epoch 31/50\n",
      "50/50 [==============================] - 0s 2ms/step - loss: 0.7732 - accuracy: 0.7650 - val_loss: 1.3372 - val_accuracy: 0.6000\n",
      "Epoch 32/50\n",
      "50/50 [==============================] - 0s 2ms/step - loss: 0.6483 - accuracy: 0.7700 - val_loss: 2.4073 - val_accuracy: 0.5700\n",
      "Epoch 33/50\n",
      "50/50 [==============================] - 0s 2ms/step - loss: 0.6502 - accuracy: 0.7638 - val_loss: 0.9478 - val_accuracy: 0.7000\n",
      "Epoch 34/50\n",
      "50/50 [==============================] - 0s 2ms/step - loss: 0.6426 - accuracy: 0.7763 - val_loss: 0.5584 - val_accuracy: 0.7800\n",
      "Epoch 35/50\n",
      "50/50 [==============================] - 0s 2ms/step - loss: 0.7117 - accuracy: 0.7550 - val_loss: 0.7044 - val_accuracy: 0.7700\n",
      "Epoch 36/50\n",
      "50/50 [==============================] - 0s 2ms/step - loss: 0.6363 - accuracy: 0.7825 - val_loss: 1.5595 - val_accuracy: 0.6400\n",
      "Epoch 37/50\n",
      "50/50 [==============================] - 0s 2ms/step - loss: 0.5818 - accuracy: 0.7862 - val_loss: 3.0188 - val_accuracy: 0.5600\n",
      "Epoch 38/50\n",
      "50/50 [==============================] - 0s 2ms/step - loss: 0.6562 - accuracy: 0.7738 - val_loss: 2.2768 - val_accuracy: 0.5100\n",
      "Epoch 39/50\n",
      "50/50 [==============================] - 0s 2ms/step - loss: 0.6100 - accuracy: 0.7700 - val_loss: 0.5672 - val_accuracy: 0.7800\n",
      "Epoch 40/50\n",
      "50/50 [==============================] - 0s 2ms/step - loss: 0.5786 - accuracy: 0.7925 - val_loss: 1.2358 - val_accuracy: 0.6500\n",
      "Epoch 41/50\n",
      "50/50 [==============================] - 0s 2ms/step - loss: 0.5647 - accuracy: 0.7700 - val_loss: 0.6831 - val_accuracy: 0.7500\n",
      "Epoch 42/50\n",
      "50/50 [==============================] - 0s 2ms/step - loss: 0.5372 - accuracy: 0.8062 - val_loss: 1.5153 - val_accuracy: 0.6000\n",
      "Epoch 43/50\n",
      "50/50 [==============================] - 0s 2ms/step - loss: 0.5589 - accuracy: 0.8025 - val_loss: 0.5889 - val_accuracy: 0.7500\n",
      "Epoch 44/50\n",
      "50/50 [==============================] - 0s 2ms/step - loss: 0.5829 - accuracy: 0.7962 - val_loss: 0.5716 - val_accuracy: 0.7600\n",
      "Epoch 45/50\n",
      "50/50 [==============================] - 0s 2ms/step - loss: 0.5672 - accuracy: 0.7788 - val_loss: 1.1337 - val_accuracy: 0.5900\n",
      "Epoch 46/50\n",
      "50/50 [==============================] - 0s 2ms/step - loss: 0.5249 - accuracy: 0.8012 - val_loss: 0.6624 - val_accuracy: 0.7600\n",
      "Epoch 47/50\n",
      "50/50 [==============================] - 0s 2ms/step - loss: 0.5023 - accuracy: 0.8125 - val_loss: 2.0395 - val_accuracy: 0.6900\n",
      "Epoch 48/50\n",
      "50/50 [==============================] - 0s 2ms/step - loss: 0.5272 - accuracy: 0.7950 - val_loss: 1.5256 - val_accuracy: 0.5600\n",
      "Epoch 49/50\n",
      "50/50 [==============================] - 0s 2ms/step - loss: 0.5329 - accuracy: 0.7875 - val_loss: 1.1081 - val_accuracy: 0.6100\n",
      "Epoch 50/50\n",
      "50/50 [==============================] - 0s 2ms/step - loss: 0.5104 - accuracy: 0.8075 - val_loss: 1.1782 - val_accuracy: 0.6300\n"
     ]
    },
    {
     "data": {
      "text/plain": [
       "<keras.callbacks.History at 0x7fce1bf52f40>"
      ]
     },
     "execution_count": 147,
     "metadata": {},
     "output_type": "execute_result"
    }
   ],
   "source": [
    "model.compile(loss = \"categorical_crossentropy\",optimizer=\"rmsprop\",metrics=['accuracy'])\n",
    "model.fit(trainx,trainy,batch_size=BATCH_SIZE,epochs=epochs,verbose=1,validation_data=(validationx,validationy))"
   ]
  },
  {
   "cell_type": "code",
   "execution_count": 148,
   "metadata": {},
   "outputs": [
    {
     "name": "stdout",
     "output_type": "stream",
     "text": [
      "\n",
      "Evaluation against Test Dataset :\n",
      "------------------------------------\n",
      "4/4 [==============================] - 0s 2ms/step - loss: 1.3191 - accuracy: 0.6400\n"
     ]
    },
    {
     "data": {
      "text/plain": [
       "[1.31907057762146, 0.6399999856948853]"
      ]
     },
     "execution_count": 148,
     "metadata": {},
     "output_type": "execute_result"
    }
   ],
   "source": [
    "print(\"\\nEvaluation against Test Dataset :\\n------------------------------------\")\n",
    "model.evaluate(testx,testy)"
   ]
  }
 ],
 "metadata": {
  "kernelspec": {
   "display_name": "Python 3 (ipykernel)",
   "language": "python",
   "name": "python3"
  },
  "language_info": {
   "codemirror_mode": {
    "name": "ipython",
    "version": 3
   },
   "file_extension": ".py",
   "mimetype": "text/x-python",
   "name": "python",
   "nbconvert_exporter": "python",
   "pygments_lexer": "ipython3",
   "version": "3.9.13"
  }
 },
 "nbformat": 4,
 "nbformat_minor": 4
}
